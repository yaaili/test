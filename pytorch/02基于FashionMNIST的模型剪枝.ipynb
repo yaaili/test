{
  "nbformat": 4,
  "nbformat_minor": 0,
  "metadata": {
    "colab": {
      "name": "基于FashionMNIST的模型剪枝.ipynb",
      "provenance": [],
      "toc_visible": true,
      "authorship_tag": "ABX9TyNDTs3CbUpUK3/Rs9USMXGz",
      "include_colab_link": true
    },
    "kernelspec": {
      "name": "python3",
      "display_name": "Python 3"
    },
    "accelerator": "GPU"
  },
  "cells": [
    {
      "cell_type": "markdown",
      "metadata": {
        "id": "view-in-github",
        "colab_type": "text"
      },
      "source": [
        "<a href=\"https://colab.research.google.com/github/yaaili/test/blob/master/pytorch/02%E5%9F%BA%E4%BA%8EFashionMNIST%E7%9A%84%E6%A8%A1%E5%9E%8B%E5%89%AA%E6%9E%9D.ipynb\" target=\"_parent\"><img src=\"https://colab.research.google.com/assets/colab-badge.svg\" alt=\"Open In Colab\"/></a>"
      ]
    },
    {
      "cell_type": "markdown",
      "metadata": {
        "id": "vMYVMt3dzqsh",
        "colab_type": "text"
      },
      "source": [
        "# 1 导入相关包"
      ]
    },
    {
      "cell_type": "code",
      "metadata": {
        "id": "GyC_ni8Iznyr",
        "colab_type": "code",
        "outputId": "69eabc62-f66d-4157-ca81-7544824f026d",
        "colab": {
          "base_uri": "https://localhost:8080/",
          "height": 121
        }
      },
      "source": [
        "# 导入相关包\n",
        "from google.colab import drive\n",
        "\n",
        "drive.mount('/content/gdrive')\n",
        "import os\n",
        "\n",
        "os.chdir(\"/content/gdrive/My Drive/Colab Notebooks/pytorch深度学习\")"
      ],
      "execution_count": 0,
      "outputs": [
        {
          "output_type": "stream",
          "text": [
            "Go to this URL in a browser: https://accounts.google.com/o/oauth2/auth?client_id=947318989803-6bn6qk8qdgf4n4g3pfee6491hc0brc4i.apps.googleusercontent.com&redirect_uri=urn%3aietf%3awg%3aoauth%3a2.0%3aoob&response_type=code&scope=email%20https%3a%2f%2fwww.googleapis.com%2fauth%2fdocs.test%20https%3a%2f%2fwww.googleapis.com%2fauth%2fdrive%20https%3a%2f%2fwww.googleapis.com%2fauth%2fdrive.photos.readonly%20https%3a%2f%2fwww.googleapis.com%2fauth%2fpeopleapi.readonly\n",
            "\n",
            "Enter your authorization code:\n",
            "··········\n",
            "Mounted at /content/gdrive\n"
          ],
          "name": "stdout"
        }
      ]
    },
    {
      "cell_type": "code",
      "metadata": {
        "id": "ARQLeaxVuFSZ",
        "colab_type": "code",
        "outputId": "b2bad084-52b0-4300-b11e-5e2ed78417c9",
        "colab": {
          "base_uri": "https://localhost:8080/",
          "height": 34
        }
      },
      "source": [
        "import torch\n",
        "from torch import nn\n",
        "import torch.nn.functional as F\n",
        "print(torch.__version__)"
      ],
      "execution_count": 0,
      "outputs": [
        {
          "output_type": "stream",
          "text": [
            "1.5.0+cu101\n"
          ],
          "name": "stdout"
        }
      ]
    },
    {
      "cell_type": "markdown",
      "metadata": {
        "id": "0x5Gfc79odoB",
        "colab_type": "text"
      },
      "source": [
        "# 2 构建网络"
      ]
    },
    {
      "cell_type": "code",
      "metadata": {
        "id": "ttlUZteVpEX8",
        "colab_type": "code",
        "colab": {}
      },
      "source": [
        "class MyNet(nn.Module):\n",
        "    def __init__(self):\n",
        "        super(MyNet,self).__init__()\n",
        "        self.conv1 = nn.Conv2d(1, 32, kernel_size=3, padding=1, stride=1)\n",
        "        self.relu1 = nn.ReLU(inplace=True)\n",
        "        self.maxpool1 = nn.MaxPool2d(2)\n",
        "\n",
        "        self.conv2 = nn.Conv2d(32, 64, kernel_size=3, padding=1, stride=1)\n",
        "        self.relu2 = nn.ReLU(inplace=True)\n",
        "        self.maxpool2 = nn.MaxPool2d(2)\n",
        "\n",
        "        self.conv3 = nn.Conv2d(64, 64, kernel_size=3, padding=1, stride=1)\n",
        "        self.relu3 = nn.ReLU(inplace=True)\n",
        "\n",
        "        self.linear1 = nn.Linear(7 * 7 * 64, 128)\n",
        "        self.linear2 = nn.Linear(128, 10)\n",
        "\n",
        "        self.loss = nn.CrossEntropyLoss()\n",
        "\n",
        "    def forward(self, data):\n",
        "        out = self.maxpool1(self.relu1(self.conv1(data)))\n",
        "        out = self.maxpool2(self.relu2(self.conv2(out)))\n",
        "        out = self.relu3(self.conv3(out))\n",
        "        out = out.view(out.size(0), -1)\n",
        "        out = self.linear1(out)\n",
        "        out = self.linear2(out)\n",
        "        return out\n",
        "\n",
        "    def get_loss(self, output, label):\n",
        "        return self.loss(output, label)\n"
      ],
      "execution_count": 0,
      "outputs": []
    },
    {
      "cell_type": "code",
      "metadata": {
        "id": "c8zqCn1WqItK",
        "colab_type": "code",
        "outputId": "31a668fc-ae04-41a0-f22d-ada78d78d670",
        "colab": {
          "base_uri": "https://localhost:8080/",
          "height": 86
        }
      },
      "source": [
        "if __name__ == '__main__':\n",
        "    net = MyNet()\n",
        "    for p in net.conv1.parameters():\n",
        "        print(p.data.size())\n",
        "    for p in net.linear1.parameters():\n",
        "        print(p.data.size())"
      ],
      "execution_count": 0,
      "outputs": [
        {
          "output_type": "stream",
          "text": [
            "torch.Size([32, 1, 3, 3])\n",
            "torch.Size([32])\n",
            "torch.Size([128, 3136])\n",
            "torch.Size([128])\n"
          ],
          "name": "stdout"
        }
      ]
    },
    {
      "cell_type": "code",
      "metadata": {
        "id": "FDZyiI-BpJt7",
        "colab_type": "code",
        "outputId": "e6168752-a0bd-4e96-b9b1-acd0a220aa5d",
        "colab": {
          "base_uri": "https://localhost:8080/",
          "height": 34
        }
      },
      "source": [
        "total = sum([param.nelement() for param in net.parameters()])\n",
        "print('  + Number of params: %.2fM' % (total / 1e6))\n"
      ],
      "execution_count": 0,
      "outputs": [
        {
          "output_type": "stream",
          "text": [
            "  + Number of params: 0.46M\n"
          ],
          "name": "stdout"
        }
      ]
    },
    {
      "cell_type": "markdown",
      "metadata": {
        "id": "JzpKGGa3rgwJ",
        "colab_type": "text"
      },
      "source": [
        "# 3 训练"
      ]
    },
    {
      "cell_type": "code",
      "metadata": {
        "id": "-BDmJwWpqUQ2",
        "colab_type": "code",
        "colab": {}
      },
      "source": [
        "import torch\n",
        "from torchvision import datasets, transforms\n",
        "\n",
        "from torch.utils.data import DataLoader\n",
        "import math\n",
        "import time"
      ],
      "execution_count": 0,
      "outputs": []
    },
    {
      "cell_type": "markdown",
      "metadata": {
        "id": "Cjtm4XJlvmas",
        "colab_type": "text"
      },
      "source": [
        "## 3.1 数据准备"
      ]
    },
    {
      "cell_type": "code",
      "metadata": {
        "id": "WjREf1gPAeMC",
        "colab_type": "code",
        "colab": {}
      },
      "source": [
        "#图像的预处理归一化[0,1],transforms.Normalize即image=(image-mean)/std到[-1,1]\n",
        "trans = transforms.Compose([transforms.ToTensor(), transforms.Normalize([0.5], [0.5])])\n",
        "#加载训练集,不是独热编码\n",
        "train_data = DataLoader(datasets.FashionMNIST(\"./datasets/\", train=True, transform=trans, download=True),\n",
        "                              batch_size=100, shuffle=True, drop_last=True)\n",
        "#加载测试集\n",
        "test_data = DataLoader(datasets.FashionMNIST(\"./datasets/\", train=False, transform=trans, download=True),\n",
        "                               batch_size=100, shuffle=True, drop_last=True)"
      ],
      "execution_count": 0,
      "outputs": []
    },
    {
      "cell_type": "code",
      "metadata": {
        "id": "rXIYrT1HCWjB",
        "colab_type": "code",
        "outputId": "556dc311-504e-4fbb-a94d-bdd131c81327",
        "colab": {
          "base_uri": "https://localhost:8080/",
          "height": 34
        }
      },
      "source": [
        "for X,y in train_data:\n",
        "    print(X.shape,y.shape)\n",
        "    break"
      ],
      "execution_count": 0,
      "outputs": [
        {
          "output_type": "stream",
          "text": [
            "torch.Size([100, 1, 28, 28]) torch.Size([100])\n"
          ],
          "name": "stdout"
        }
      ]
    },
    {
      "cell_type": "code",
      "metadata": {
        "id": "MLV-RbzxrBrJ",
        "colab_type": "code",
        "colab": {}
      },
      "source": [
        "class Trainer:\n",
        "    def __init__(self, save_path):\n",
        "        self.device = \"cuda\" if torch.cuda.is_available() else \"cpu\"\n",
        "        self.save_path = save_path\n",
        "        self.net = MyNet().to(self.device)\n",
        "        self.optimizer = torch.optim.Adam(self.net.parameters())\n",
        "        self.net.train()\n",
        "        \n",
        "    def evaluate_accuracy(self,test_data):\n",
        "        acc_sum, n = 0.0, 0\n",
        "        for X, y in test_data:\n",
        "            X, y = X.to(self.device), y.to(self.device)\n",
        "            if isinstance(self.net, torch.nn.Module):\n",
        "                net.eval() # 评估模式, 这会关闭dropout\n",
        "                acc_sum += (self.net(X).argmax(dim=1) == y).float().sum().item()\n",
        "                net.train() # 改回训练模式\n",
        "            else: # 自定义的模型\n",
        "                if('is_training' in net.__code__.co_varnames): # 如果有is_training这个参数\n",
        "                    # 将is_training设置成False\n",
        "                    acc_sum += (self.net(X, is_training=False).argmax(dim=1) == y).float().sum().item() \n",
        "                else:\n",
        "                    acc_sum += (self.net(X).argmax(dim=1) == y).float().sum().item() \n",
        "            n += y.shape[0]\n",
        "        return acc_sum / n\n",
        "\n",
        "    def train(self,train_data,test_data,epochs):\n",
        "        for epoch in range(1, epochs):\n",
        "            total = 0\n",
        "            train_acc_sum,train_l_sum,n,start = 0.0,0.0,0,time.time()\n",
        "            for i, (data, label) in enumerate(train_data):\n",
        "                data, label = data.to(self.device), label.to(self.device)\n",
        "                output = self.net(data)\n",
        "                loss = self.net.get_loss(output, label)\n",
        "                self.optimizer.zero_grad()\n",
        "                loss.backward()\n",
        "                self.optimizer.step()\n",
        "\n",
        "                total += len(data)\n",
        "                #训练损失\n",
        "                train_l_sum += loss.item()\n",
        "                train_acc_sum += ((output.argmax(dim=1)) == label).sum().item()\n",
        "                n += 100  \n",
        "                progress = math.ceil(i / len(train_data) * 50)\n",
        "                print(\"\\rTrain epoch %d: %d/%d, [%-51s] %d%%\" %\n",
        "                      (epoch, total, len(train_data.dataset),\n",
        "                       '-' * progress + '>', progress * 2), end='')\n",
        "            test_acc = self.evaluate_accuracy(test_data)\n",
        "            print(\"\\nepoch %d,loss %.4f, train_acc %.3f, test_acc %.3f,time %.1f sec\"\n",
        "              %(epoch,train_l_sum/n,train_acc_sum/n,test_acc,time.time()-start))\n",
        "              \n",
        "            torch.save(self.net.state_dict(), self.save_path)\n",
        "\n",
        "\n",
        "\n"
      ],
      "execution_count": 0,
      "outputs": []
    },
    {
      "cell_type": "code",
      "metadata": {
        "id": "knHAq-wjr6LB",
        "colab_type": "code",
        "outputId": "c8398565-5df1-49bc-c6b0-695f100955c2",
        "colab": {
          "base_uri": "https://localhost:8080/",
          "height": 328
        }
      },
      "source": [
        "if __name__ == '__main__':\n",
        "    trainer = Trainer(\"./model/finsh_minst_net.pth\")\n",
        "    trainer.train(train_data,test_data,epochs=10)"
      ],
      "execution_count": 0,
      "outputs": [
        {
          "output_type": "stream",
          "text": [
            "Train epoch 1: 60000/60000, [-------------------------------------------------->] 100%\n",
            "epoch 1,loss 0.0045, train_acc 0.836, test_acc 0.877,time 11.8 sec\n",
            "Train epoch 2: 60000/60000, [-------------------------------------------------->] 100%\n",
            "epoch 2,loss 0.0028, train_acc 0.899, test_acc 0.897,time 11.8 sec\n",
            "Train epoch 3: 60000/60000, [-------------------------------------------------->] 100%\n",
            "epoch 3,loss 0.0024, train_acc 0.913, test_acc 0.899,time 12.0 sec\n",
            "Train epoch 4: 60000/60000, [-------------------------------------------------->] 100%\n",
            "epoch 4,loss 0.0021, train_acc 0.923, test_acc 0.909,time 11.8 sec\n",
            "Train epoch 5: 60000/60000, [-------------------------------------------------->] 100%\n",
            "epoch 5,loss 0.0019, train_acc 0.930, test_acc 0.917,time 12.1 sec\n",
            "Train epoch 6: 60000/60000, [-------------------------------------------------->] 100%\n",
            "epoch 6,loss 0.0017, train_acc 0.938, test_acc 0.912,time 11.9 sec\n",
            "Train epoch 7: 60000/60000, [-------------------------------------------------->] 100%\n",
            "epoch 7,loss 0.0015, train_acc 0.945, test_acc 0.921,time 11.8 sec\n",
            "Train epoch 8: 60000/60000, [-------------------------------------------------->] 100%\n",
            "epoch 8,loss 0.0013, train_acc 0.951, test_acc 0.922,time 11.7 sec\n",
            "Train epoch 9: 60000/60000, [-------------------------------------------------->] 100%\n",
            "epoch 9,loss 0.0012, train_acc 0.957, test_acc 0.918,time 11.9 sec\n"
          ],
          "name": "stdout"
        }
      ]
    },
    {
      "cell_type": "markdown",
      "metadata": {
        "id": "sUtS6IzAurI3",
        "colab_type": "text"
      },
      "source": [
        "# 4 对模型进行剪枝\n",
        "## 4.1 构建剪枝网络"
      ]
    },
    {
      "cell_type": "code",
      "metadata": {
        "id": "nR_HKGeCzfhp",
        "colab_type": "code",
        "outputId": "79a3e5ce-0ccd-42be-bab1-6a1bf6f67ba3",
        "colab": {
          "base_uri": "https://localhost:8080/",
          "height": 330
        }
      },
      "source": [
        "import torch\n",
        "import torch.nn.utils.prune as prune\n",
        "\n",
        "class Pruning:\n",
        "    #net_path是修建的模型，amount是模型的修建率\n",
        "    def __init__(self, net_path, amount):\n",
        "        self.net = MyNet()\n",
        "        #加载模型\n",
        "        self.net.load_state_dict(torch.load(net_path))\n",
        "        #将模型都定义为元组,这是全局修剪的方法\n",
        "        self.parameters_to_prune = (\n",
        "            (self.net.conv1, 'weight'),\n",
        "            (self.net.conv2, 'weight'),\n",
        "            (self.net.conv3, 'weight'),\n",
        "            (self.net.linear1, 'weight'),\n",
        "            (self.net.linear2, 'weight'),\n",
        "        )\n",
        "        self.amount = amount\n",
        "\n",
        "    def pruning(self):\n",
        "      #全局修剪参数，方法是修剪绝对值参数\n",
        "        prune.global_unstructured(\n",
        "            self.parameters_to_prune,\n",
        "            pruning_method=prune.L1Unstructured,\n",
        "            amount=self.amount,\n",
        "        )\n",
        "        # print(self.net.state_dict().keys())\n",
        "        # 删除weight_orig 、weight_mask以及forward_pre_hook\n",
        "        prune.remove(self.net.conv1, 'weight')\n",
        "        prune.remove(self.net.conv2, 'weight')\n",
        "        prune.remove(self.net.conv3, 'weight')\n",
        "        prune.remove(self.net.linear1, 'weight')\n",
        "        prune.remove(self.net.linear2, 'weight')\n",
        "        print(\n",
        "            \"Sparsity in conv1.weight: {:.2f}%\".format(\n",
        "                100. * float(torch.sum(self.net.conv1.weight == 0))\n",
        "                / float(self.net.conv1.weight.nelement())\n",
        "            )\n",
        "        )\n",
        "        print(\n",
        "            \"Sparsity in conv2.weight: {:.2f}%\".format(\n",
        "                100. * float(torch.sum(self.net.conv2.weight == 0))\n",
        "                / float(self.net.conv2.weight.nelement())\n",
        "            )\n",
        "        )\n",
        "        print(\n",
        "            \"Sparsity in conv3.weight: {:.2f}%\".format(\n",
        "                100. * float(torch.sum(self.net.conv3.weight == 0))\n",
        "                / float(self.net.conv3.weight.nelement())\n",
        "            )\n",
        "        )\n",
        "        print(\n",
        "            \"Sparsity in linear1.weight: {:.2f}%\".format(\n",
        "                100. * float(torch.sum(self.net.linear1.weight == 0))\n",
        "                / float(self.net.linear1.weight.nelement())\n",
        "            )\n",
        "        )\n",
        "        print(\n",
        "            \"Sparsity in linear2.weight: {:.2f}%\".format(\n",
        "                100. * float(torch.sum(self.net.linear2.weight == 0))\n",
        "                / float(self.net.linear2.weight.nelement())\n",
        "            )\n",
        "        )\n",
        "        print(\n",
        "            \"Global sparsity: {:.2f}%\".format(\n",
        "                100. * float(\n",
        "                    torch.sum(self.net.conv1.weight == 0)\n",
        "                    + torch.sum(self.net.conv2.weight == 0)\n",
        "                    + torch.sum(self.net.conv3.weight == 0)\n",
        "                    + torch.sum(self.net.linear1.weight == 0)\n",
        "                    + torch.sum(self.net.linear2.weight == 0)\n",
        "                )\n",
        "                / float(\n",
        "                    self.net.conv1.weight.nelement()\n",
        "                    + self.net.conv2.weight.nelement()\n",
        "                    + self.net.conv3.weight.nelement()\n",
        "                    + self.net.linear1.weight.nelement()\n",
        "                    + self.net.linear2.weight.nelement()\n",
        "                )\n",
        "            )\n",
        "        )\n",
        "        # torch.save(self.net.state_dict(), \"models/pruned_net_with_conv.pth\")\n",
        "        torch.save(self.net.state_dict(), f\"./model/pruned_net_with_torch_{self.amount:.1f}_l1.pth\")\n",
        "\n",
        "\n",
        "if __name__ == '__main__':\n",
        "    for i in range(1, 10):\n",
        "        pruning = Pruning(\"./model/finsh_minst_net.pth\", 0.1 * i)\n",
        "        pruning.pruning()\n"
      ],
      "execution_count": 0,
      "outputs": [
        {
          "output_type": "error",
          "ename": "NameError",
          "evalue": "ignored",
          "traceback": [
            "\u001b[0;31m---------------------------------------------------------------------------\u001b[0m",
            "\u001b[0;31mNameError\u001b[0m                                 Traceback (most recent call last)",
            "\u001b[0;32m<ipython-input-10-74810ff7e0d7>\u001b[0m in \u001b[0;36m<module>\u001b[0;34m()\u001b[0m\n\u001b[1;32m     86\u001b[0m \u001b[0;32mif\u001b[0m \u001b[0m__name__\u001b[0m \u001b[0;34m==\u001b[0m \u001b[0;34m'__main__'\u001b[0m\u001b[0;34m:\u001b[0m\u001b[0;34m\u001b[0m\u001b[0;34m\u001b[0m\u001b[0m\n\u001b[1;32m     87\u001b[0m     \u001b[0;32mfor\u001b[0m \u001b[0mi\u001b[0m \u001b[0;32min\u001b[0m \u001b[0mrange\u001b[0m\u001b[0;34m(\u001b[0m\u001b[0;36m1\u001b[0m\u001b[0;34m,\u001b[0m \u001b[0;36m10\u001b[0m\u001b[0;34m)\u001b[0m\u001b[0;34m:\u001b[0m\u001b[0;34m\u001b[0m\u001b[0;34m\u001b[0m\u001b[0m\n\u001b[0;32m---> 88\u001b[0;31m         \u001b[0mpruning\u001b[0m \u001b[0;34m=\u001b[0m \u001b[0mPruning\u001b[0m\u001b[0;34m(\u001b[0m\u001b[0;34m\"./model/finsh_minst_net.pth\"\u001b[0m\u001b[0;34m,\u001b[0m \u001b[0;36m0.1\u001b[0m \u001b[0;34m*\u001b[0m \u001b[0mi\u001b[0m\u001b[0;34m)\u001b[0m\u001b[0;34m\u001b[0m\u001b[0;34m\u001b[0m\u001b[0m\n\u001b[0m\u001b[1;32m     89\u001b[0m         \u001b[0mpruning\u001b[0m\u001b[0;34m.\u001b[0m\u001b[0mpruning\u001b[0m\u001b[0;34m(\u001b[0m\u001b[0;34m)\u001b[0m\u001b[0;34m\u001b[0m\u001b[0;34m\u001b[0m\u001b[0m\n",
            "\u001b[0;32m<ipython-input-10-74810ff7e0d7>\u001b[0m in \u001b[0;36m__init__\u001b[0;34m(self, net_path, amount)\u001b[0m\n\u001b[1;32m      5\u001b[0m     \u001b[0;31m#net_path是修建的模型，amount是模型的修建率\u001b[0m\u001b[0;34m\u001b[0m\u001b[0;34m\u001b[0m\u001b[0;34m\u001b[0m\u001b[0m\n\u001b[1;32m      6\u001b[0m     \u001b[0;32mdef\u001b[0m \u001b[0m__init__\u001b[0m\u001b[0;34m(\u001b[0m\u001b[0mself\u001b[0m\u001b[0;34m,\u001b[0m \u001b[0mnet_path\u001b[0m\u001b[0;34m,\u001b[0m \u001b[0mamount\u001b[0m\u001b[0;34m)\u001b[0m\u001b[0;34m:\u001b[0m\u001b[0;34m\u001b[0m\u001b[0;34m\u001b[0m\u001b[0m\n\u001b[0;32m----> 7\u001b[0;31m         \u001b[0mself\u001b[0m\u001b[0;34m.\u001b[0m\u001b[0mnet\u001b[0m \u001b[0;34m=\u001b[0m \u001b[0mMyNet\u001b[0m\u001b[0;34m(\u001b[0m\u001b[0;34m)\u001b[0m\u001b[0;34m\u001b[0m\u001b[0;34m\u001b[0m\u001b[0m\n\u001b[0m\u001b[1;32m      8\u001b[0m         \u001b[0;31m#加载模型\u001b[0m\u001b[0;34m\u001b[0m\u001b[0;34m\u001b[0m\u001b[0;34m\u001b[0m\u001b[0m\n\u001b[1;32m      9\u001b[0m         \u001b[0mself\u001b[0m\u001b[0;34m.\u001b[0m\u001b[0mnet\u001b[0m\u001b[0;34m.\u001b[0m\u001b[0mload_state_dict\u001b[0m\u001b[0;34m(\u001b[0m\u001b[0mtorch\u001b[0m\u001b[0;34m.\u001b[0m\u001b[0mload\u001b[0m\u001b[0;34m(\u001b[0m\u001b[0mnet_path\u001b[0m\u001b[0;34m)\u001b[0m\u001b[0;34m)\u001b[0m\u001b[0;34m\u001b[0m\u001b[0;34m\u001b[0m\u001b[0m\n",
            "\u001b[0;31mNameError\u001b[0m: name 'MyNet' is not defined"
          ]
        }
      ]
    },
    {
      "cell_type": "markdown",
      "metadata": {
        "id": "8wy---fAeZZE",
        "colab_type": "text"
      },
      "source": [
        "# 5 检测"
      ]
    },
    {
      "cell_type": "code",
      "metadata": {
        "id": "Wj5U7mqevzsQ",
        "colab_type": "code",
        "outputId": "05db3f76-5648-4ef5-e716-dff240759ae2",
        "colab": {
          "base_uri": "https://localhost:8080/",
          "height": 689
        }
      },
      "source": [
        "class Detector:\n",
        "    def __init__(self, net_path):\n",
        "        self.device = \"cuda\" if torch.cuda.is_available() else \"cpu\"\n",
        "        self.net = MyNet().to(self.device)\n",
        "        self.map_location = None if torch.cuda.is_available() else lambda storage, loc: storage\n",
        "        self.net.load_state_dict(torch.load(net_path, map_location=self.map_location))\n",
        "        self.net.eval()\n",
        "\n",
        "    def detect(self,test_data):\n",
        "        test_loss = 0\n",
        "        correct = 0\n",
        "        start = time.time()\n",
        "        with torch.no_grad():\n",
        "            for data, label in test_data:\n",
        "                data, label = data.to(self.device), label.to(self.device)\n",
        "                output = self.net(data)\n",
        "                test_loss += self.net.get_loss(output, label)\n",
        "                pred = output.argmax(dim=1, keepdim=True)  # get the index of the max log-probability\n",
        "                correct += pred.eq(label.view_as(pred)).sum().item()\n",
        "\n",
        "        end = time.time()\n",
        "        print(f\"total time:{end - start}\")\n",
        "        test_loss /= len(test_data.dataset)\n",
        "\n",
        "        print('Test: average loss: {:.4f}, accuracy: {}/{} ({:.0f}%)\\n'.format(\n",
        "            test_loss, correct, len(test_data.dataset),\n",
        "            100. * correct / len(test_data.dataset)))\n",
        "        #返回的损失和正确率\n",
        "        return [test_loss,correct/len(test_data.dataset)]\n",
        "\n",
        "\n",
        "if __name__ == '__main__':\n",
        "    print(\"./model/finsh_minst_net.pth\")\n",
        "    test_loss,accuracy,Parameter_compression_ratio = [],[],[]\n",
        "    detector1 = Detector(\"./model/finsh_minst_net.pth\")\n",
        "    loss,acc = detector1.detect(test_data)\n",
        "\n",
        "    test_loss.append(loss)\n",
        "    accuracy.append(acc)   \n",
        "    Parameter_compression_ratio.append(0)\n",
        "     \n",
        "    for i in range(1, 10):\n",
        "        amount = 0.1 * i\n",
        "        print(f\"./model/pruned_net_with_torch_{amount:.1f}_l1.pth\")\n",
        "        detector1 = Detector(f\"./model/pruned_net_with_torch_{amount:.1f}_l1.pth\")\n",
        "        loss,acc = detector1.detect(test_data)\n",
        "\n",
        "        test_loss.append(loss)\n",
        "        accuracy.append(acc)   \n",
        "        Parameter_compression_ratio.append(amount)\n"
      ],
      "execution_count": 0,
      "outputs": [
        {
          "output_type": "stream",
          "text": [
            "./model/finsh_minst_net.pth\n",
            "total time:1.6475636959075928\n",
            "Test: average loss: 0.0027, accuracy: 9179/10000 (92%)\n",
            "\n",
            "./model/pruned_net_with_torch_0.1_l1.pth\n",
            "total time:1.3875453472137451\n",
            "Test: average loss: 0.0027, accuracy: 9179/10000 (92%)\n",
            "\n",
            "./model/pruned_net_with_torch_0.2_l1.pth\n",
            "total time:1.5390675067901611\n",
            "Test: average loss: 0.0027, accuracy: 9179/10000 (92%)\n",
            "\n",
            "./model/pruned_net_with_torch_0.3_l1.pth\n",
            "total time:1.356163501739502\n",
            "Test: average loss: 0.0026, accuracy: 9178/10000 (92%)\n",
            "\n",
            "./model/pruned_net_with_torch_0.4_l1.pth\n",
            "total time:1.4721436500549316\n",
            "Test: average loss: 0.0026, accuracy: 9163/10000 (92%)\n",
            "\n",
            "./model/pruned_net_with_torch_0.5_l1.pth\n",
            "total time:1.429352045059204\n",
            "Test: average loss: 0.0026, accuracy: 9134/10000 (91%)\n",
            "\n",
            "./model/pruned_net_with_torch_0.6_l1.pth\n",
            "total time:1.3589565753936768\n",
            "Test: average loss: 0.0026, accuracy: 9119/10000 (91%)\n",
            "\n",
            "./model/pruned_net_with_torch_0.7_l1.pth\n",
            "total time:1.3456928730010986\n",
            "Test: average loss: 0.0028, accuracy: 9026/10000 (90%)\n",
            "\n",
            "./model/pruned_net_with_torch_0.8_l1.pth\n",
            "total time:1.351386308670044\n",
            "Test: average loss: 0.0046, accuracy: 8644/10000 (86%)\n",
            "\n",
            "./model/pruned_net_with_torch_0.9_l1.pth\n",
            "total time:1.4840266704559326\n",
            "Test: average loss: 0.0135, accuracy: 7021/10000 (70%)\n",
            "\n"
          ],
          "name": "stdout"
        }
      ]
    },
    {
      "cell_type": "code",
      "metadata": {
        "id": "POq7EzYuHqh3",
        "colab_type": "code",
        "outputId": "3da1e5a1-67c5-4ce6-adeb-a9b05f8586ef",
        "colab": {
          "base_uri": "https://localhost:8080/",
          "height": 322
        }
      },
      "source": [
        "import numpy as np\n",
        "import matplotlib.pyplot as plt\n",
        "\n",
        "fig,ax = plt.subplots(1,2,figsize=(9,5))\n",
        "ax1 = plt.subplot(121)  #绘制子图1对象\n",
        "ax2 = plt.subplot(122)  #绘制子图2对象\n",
        "\n",
        "\n",
        "\n",
        "x = Parameter_compression_ratio\n",
        "y = accuracy\n",
        "y2 = test_loss\n",
        "\n",
        "ax1.plot(x,y,color='red',label='accuracy')\n",
        "ax2.plot(x,y2,color='blue',label='test_loss')\n",
        "ax1.legend()\n",
        "ax2.legend()\n",
        "\n",
        "plt.show()"
      ],
      "execution_count": 0,
      "outputs": [
        {
          "output_type": "display_data",
          "data": {
            "image/png": "[encoded data removed]",
            "text/plain": [
              "<Figure size 648x360 with 2 Axes>"
            ]
          },
          "metadata": {
            "tags": [],
            "needs_background": "light"
          }
        }
      ]
    }
  ]
}