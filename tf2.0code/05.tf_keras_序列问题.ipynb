{
  "nbformat": 4,
  "nbformat_minor": 0,
  "metadata": {
    "kernelspec": {
      "display_name": "Python 3",
      "language": "python",
      "name": "python3"
    },
    "language_info": {
      "codemirror_mode": {
        "name": "ipython",
        "version": 3
      },
      "file_extension": ".py",
      "mimetype": "text/x-python",
      "name": "python",
      "nbconvert_exporter": "python",
      "pygments_lexer": "ipython3",
      "version": "3.7.7"
    },
    "toc": {
      "base_numbering": 1,
      "nav_menu": {},
      "number_sections": true,
      "sideBar": true,
      "skip_h1_title": false,
      "title_cell": "Table of Contents",
      "title_sidebar": "Contents",
      "toc_cell": false,
      "toc_position": {},
      "toc_section_display": true,
      "toc_window_display": false
    },
    "colab": {
      "name": "05 tf.keras 序列问题.ipynb",
      "provenance": [],
      "include_colab_link": true
    },
    "accelerator": "GPU"
  },
  "cells": [
    {
      "cell_type": "markdown",
      "metadata": {
        "id": "view-in-github",
        "colab_type": "text"
      },
      "source": [
        "<a href=\"https://colab.research.google.com/github/yaaili/test/blob/master/tf2.0code/05.tf_keras_%E5%BA%8F%E5%88%97%E9%97%AE%E9%A2%98.ipynb\" target=\"_parent\"><img src=\"https://colab.research.google.com/assets/colab-badge.svg\" alt=\"Open In Colab\"/></a>"
      ]
    },
    {
      "cell_type": "markdown",
      "metadata": {
        "id": "42YWEbaffVN1",
        "colab_type": "text"
      },
      "source": [
        "# 导入数据"
      ]
    },
    {
      "cell_type": "code",
      "metadata": {
        "id": "xwDEheQKi5ge",
        "colab_type": "code",
        "outputId": "db0be84a-f092-4c7e-9999-430c923fb80b",
        "colab": {
          "base_uri": "https://localhost:8080/",
          "height": 35
        }
      },
      "source": [
        "from google.colab import drive\n",
        "drive.mount('/content/gdrive')"
      ],
      "execution_count": 0,
      "outputs": [
        {
          "output_type": "stream",
          "text": [
            "Drive already mounted at /content/gdrive; to attempt to forcibly remount, call drive.mount(\"/content/gdrive\", force_remount=True).\n"
          ],
          "name": "stdout"
        }
      ]
    },
    {
      "cell_type": "code",
      "metadata": {
        "id": "zYLkNP_3fVN3",
        "colab_type": "code",
        "colab": {}
      },
      "source": [
        "import tensorflow as tf\n",
        "from tensorflow import keras\n",
        "from tensorflow.keras import layers\n",
        "\n",
        "data = keras.datasets.imdb\n",
        "(x_train,y_train),(x_test,y_test)= data.load_data(num_words=10000)"
      ],
      "execution_count": 0,
      "outputs": []
    },
    {
      "cell_type": "markdown",
      "metadata": {
        "id": "HyFRpI8jfVOA",
        "colab_type": "text"
      },
      "source": [
        "把文本训练成密集的向量\n",
        "我们可以使用,我们发现这些评论的序列长短不一，为了便于后面神经网络的训练，我们需要对较长的序列进行截断，对就较短的序列进行填充。我们可以使用keras.preprocessing.sequence.pad_sequences方法对其进行填充。"
      ]
    },
    {
      "cell_type": "code",
      "metadata": {
        "scrolled": false,
        "id": "qTnfqEl_fVOA",
        "colab_type": "code",
        "outputId": "c1c3e579-3ed6-44c8-c09c-6a34c6538840",
        "colab": {
          "base_uri": "https://localhost:8080/",
          "height": 53
        }
      },
      "source": [
        "print(\"截断前前5个样本序列长度:{}\".format([len(x) for x in x_train[:5]]))\n",
        "x_train = keras.preprocessing.sequence.pad_sequences(x_train,300)\n",
        "x_test = keras.preprocessing.sequence.pad_sequences(x_test,300)\n",
        "print(\"截断后前5个样本序列长度:{}\".format([len(x) for x in x_test[:5]]))"
      ],
      "execution_count": 0,
      "outputs": [
        {
          "output_type": "stream",
          "text": [
            "截断前前5个样本序列长度:[218, 189, 141, 550, 147]\n",
            "截断后前5个样本序列长度:[300, 300, 300, 300, 300]\n"
          ],
          "name": "stdout"
        }
      ]
    },
    {
      "cell_type": "markdown",
      "metadata": {
        "id": "3n-r0DxpfVOF",
        "colab_type": "text"
      },
      "source": [
        "# 构建模型"
      ]
    },
    {
      "cell_type": "code",
      "metadata": {
        "id": "WwSNkI2JfVOG",
        "colab_type": "code",
        "outputId": "0fed4f72-27c7-41db-a5c0-fe1ca3d08e2f",
        "colab": {
          "base_uri": "https://localhost:8080/",
          "height": 305
        }
      },
      "source": [
        "model = keras.Sequential()\n",
        "#输出为（None.300,50），意思是将这300个数据转化为300个50维的特征向量\n",
        "model.add(layers.Embedding(10000,50,input_length=300))\n",
        "model.add(layers.Flatten())\n",
        "model.add(layers.Dense(128,activation= \"relu\"))\n",
        "y = model.add(layers.Dense(1,activation=\"sigmoid\"))\n",
        "model.summary()\n",
        "\n",
        "model.compile(optimizer = keras.optimizers.Adam(lr=0.001),\n",
        "             loss = \"binary_crossentropy\",\n",
        "              metrics = [\"acc\"]\n",
        "             )"
      ],
      "execution_count": 0,
      "outputs": [
        {
          "output_type": "stream",
          "text": [
            "Model: \"sequential\"\n",
            "_________________________________________________________________\n",
            "Layer (type)                 Output Shape              Param #   \n",
            "=================================================================\n",
            "embedding (Embedding)        (None, 300, 50)           500000    \n",
            "_________________________________________________________________\n",
            "flatten (Flatten)            (None, 15000)             0         \n",
            "_________________________________________________________________\n",
            "dense (Dense)                (None, 128)               1920128   \n",
            "_________________________________________________________________\n",
            "dense_1 (Dense)              (None, 1)                 129       \n",
            "=================================================================\n",
            "Total params: 2,420,257\n",
            "Trainable params: 2,420,257\n",
            "Non-trainable params: 0\n",
            "_________________________________________________________________\n"
          ],
          "name": "stdout"
        }
      ]
    },
    {
      "cell_type": "code",
      "metadata": {
        "id": "f3_6yPpLfVOJ",
        "colab_type": "code",
        "outputId": "f77d79cf-eefd-441e-e2c5-68522c4b45a3",
        "colab": {
          "base_uri": "https://localhost:8080/",
          "height": 377
        }
      },
      "source": [
        "history = model.fit(x_train,y_train,epochs=10,batch_size=256,validation_data=(x_test,y_test))"
      ],
      "execution_count": 0,
      "outputs": [
        {
          "output_type": "stream",
          "text": [
            "Epoch 1/10\n",
            "98/98 [==============================] - 3s 33ms/step - loss: 0.5086 - acc: 0.7221 - val_loss: 0.2980 - val_acc: 0.8746\n",
            "Epoch 2/10\n",
            "98/98 [==============================] - 3s 32ms/step - loss: 0.1643 - acc: 0.9394 - val_loss: 0.3016 - val_acc: 0.8769\n",
            "Epoch 3/10\n",
            "98/98 [==============================] - 3s 32ms/step - loss: 0.0391 - acc: 0.9924 - val_loss: 0.3552 - val_acc: 0.8732\n",
            "Epoch 4/10\n",
            "98/98 [==============================] - 3s 33ms/step - loss: 0.0079 - acc: 0.9995 - val_loss: 0.3952 - val_acc: 0.8736\n",
            "Epoch 5/10\n",
            "98/98 [==============================] - 3s 34ms/step - loss: 0.0027 - acc: 0.9999 - val_loss: 0.4250 - val_acc: 0.8734\n",
            "Epoch 6/10\n",
            "98/98 [==============================] - 3s 34ms/step - loss: 0.0014 - acc: 1.0000 - val_loss: 0.4462 - val_acc: 0.8742\n",
            "Epoch 7/10\n",
            "98/98 [==============================] - 3s 32ms/step - loss: 8.4250e-04 - acc: 1.0000 - val_loss: 0.4639 - val_acc: 0.8747\n",
            "Epoch 8/10\n",
            "98/98 [==============================] - 3s 31ms/step - loss: 5.9368e-04 - acc: 1.0000 - val_loss: 0.4794 - val_acc: 0.8742\n",
            "Epoch 9/10\n",
            "98/98 [==============================] - 3s 33ms/step - loss: 4.3011e-04 - acc: 1.0000 - val_loss: 0.4925 - val_acc: 0.8744\n",
            "Epoch 10/10\n",
            "98/98 [==============================] - 3s 34ms/step - loss: 3.2738e-04 - acc: 1.0000 - val_loss: 0.5045 - val_acc: 0.8744\n"
          ],
          "name": "stdout"
        }
      ]
    },
    {
      "cell_type": "code",
      "metadata": {
        "id": "nXvVM2K0fVON",
        "colab_type": "code",
        "outputId": "43c3f09e-635b-4f76-eb66-0f80064743a6",
        "colab": {
          "base_uri": "https://localhost:8080/",
          "height": 35
        }
      },
      "source": [
        "history.history.keys()"
      ],
      "execution_count": 0,
      "outputs": [
        {
          "output_type": "execute_result",
          "data": {
            "text/plain": [
              "dict_keys(['loss', 'acc', 'val_loss', 'val_acc'])"
            ]
          },
          "metadata": {
            "tags": []
          },
          "execution_count": 7
        }
      ]
    },
    {
      "cell_type": "markdown",
      "metadata": {
        "id": "I9_39Pf6jz8Z",
        "colab_type": "text"
      },
      "source": [
        "代码分析"
      ]
    },
    {
      "cell_type": "code",
      "metadata": {
        "id": "Tm-83oqeiyto",
        "colab_type": "code",
        "outputId": "2523bed6-7ac4-4f88-b967-2f8b9fbb35ae",
        "colab": {
          "base_uri": "https://localhost:8080/",
          "height": 265
        }
      },
      "source": [
        "import matplotlib.pyplot as plt\n",
        "plt.plot(history.epoch, history.history.get(\"acc\"),label=\"acc\")\n",
        "plt.plot(history.epoch, history.history.get(\"val_acc\"),label=\"val_acc\")\n",
        "plt.legend()\n",
        "plt.show()"
      ],
      "execution_count": 0,
      "outputs": [
        {
          "output_type": "display_data",
          "data": {
            "image/png": "[encoded data removed]",
            "text/plain": [
              "<Figure size 432x288 with 1 Axes>"
            ]
          },
          "metadata": {
            "tags": [],
            "needs_background": "light"
          }
        }
      ]
    },
    {
      "cell_type": "code",
      "metadata": {
        "id": "Wu-7Spi0kY56",
        "colab_type": "code",
        "outputId": "8e31c73e-7c45-4fd7-8a4c-73ead5dc5019",
        "colab": {
          "base_uri": "https://localhost:8080/",
          "height": 265
        }
      },
      "source": [
        "import matplotlib.pyplot as plt\n",
        "plt.plot(history.epoch, history.history.get(\"loss\"),label=\"loss\")\n",
        "plt.plot(history.epoch, history.history.get(\"val_loss\"),label=\"val_loss\")\n",
        "plt.legend()\n",
        "plt.show()"
      ],
      "execution_count": 0,
      "outputs": [
        {
          "output_type": "display_data",
          "data": {
            "image/png": "[encoded data removed]",
            "text/plain": [
              "<Figure size 432x288 with 1 Axes>"
            ]
          },
          "metadata": {
            "tags": [],
            "needs_background": "light"
          }
        }
      ]
    },
    {
      "cell_type": "markdown",
      "metadata": {
        "id": "ZSua5cNsluj5",
        "colab_type": "text"
      },
      "source": [
        "训练数据的准确率远高于测试数据的准确率，这是过拟合的问题，我们可以添加dropout,l2正则化解决过拟合"
      ]
    },
    {
      "cell_type": "code",
      "metadata": {
        "id": "-HxtyFnakxFb",
        "colab_type": "code",
        "outputId": "1868e914-aae0-445d-f6dd-9168576ee10b",
        "colab": {
          "base_uri": "https://localhost:8080/",
          "height": 449
        }
      },
      "source": [
        "from tensorflow.keras import regularizers\n",
        "model = keras.Sequential()\n",
        "#输出为（None.300,50），意思是将这300个数据转化为300个50维的特征向量\n",
        "model.add(layers.Embedding(10000,50,input_length=300,embeddings_regularizer=regularizers.l2(0.001)))\n",
        "model.add(layers.GlobalAvgPool1D())\n",
        "model.add(layers.BatchNormalization())\n",
        "model.add(layers.Dropout(0.5))\n",
        "model.add(layers.Dense(256,activation= \"relu\",kernel_regularizer=regularizers.l2(0.001)))\n",
        "model.add(layers.BatchNormalization())\n",
        "model.add(layers.Dropout(0.5))\n",
        "y = model.add(layers.Dense(1,activation=\"sigmoid\",kernel_regularizer=regularizers.l2(0.001)))\n",
        "model.summary()\n",
        "\n",
        "model.compile(optimizer = keras.optimizers.Adam(lr=0.001),\n",
        "             loss = \"binary_crossentropy\",\n",
        "             metrics = [\"acc\"]\n",
        "             )"
      ],
      "execution_count": 0,
      "outputs": [
        {
          "output_type": "stream",
          "text": [
            "Model: \"sequential_1\"\n",
            "_________________________________________________________________\n",
            "Layer (type)                 Output Shape              Param #   \n",
            "=================================================================\n",
            "embedding_1 (Embedding)      (None, 300, 50)           500000    \n",
            "_________________________________________________________________\n",
            "global_average_pooling1d (Gl (None, 50)                0         \n",
            "_________________________________________________________________\n",
            "batch_normalization (BatchNo (None, 50)                200       \n",
            "_________________________________________________________________\n",
            "dropout (Dropout)            (None, 50)                0         \n",
            "_________________________________________________________________\n",
            "dense_2 (Dense)              (None, 256)               13056     \n",
            "_________________________________________________________________\n",
            "batch_normalization_1 (Batch (None, 256)               1024      \n",
            "_________________________________________________________________\n",
            "dropout_1 (Dropout)          (None, 256)               0         \n",
            "_________________________________________________________________\n",
            "dense_3 (Dense)              (None, 1)                 257       \n",
            "=================================================================\n",
            "Total params: 514,537\n",
            "Trainable params: 513,925\n",
            "Non-trainable params: 612\n",
            "_________________________________________________________________\n"
          ],
          "name": "stdout"
        }
      ]
    },
    {
      "cell_type": "code",
      "metadata": {
        "id": "tj7cUn8pmpOF",
        "colab_type": "code",
        "outputId": "7b516367-5b09-4fea-f60c-496ddbaaa8a1",
        "colab": {
          "base_uri": "https://localhost:8080/",
          "height": 433
        }
      },
      "source": [
        "history = model.fit(x_train,y_train,epochs=10,batch_size=256,validation_data=(x_test,y_test))"
      ],
      "execution_count": 0,
      "outputs": [
        {
          "output_type": "stream",
          "text": [
            "Epoch 1/10\n"
          ],
          "name": "stdout"
        },
        {
          "output_type": "stream",
          "text": [
            "/usr/local/lib/python3.6/dist-packages/tensorflow/python/framework/indexed_slices.py:434: UserWarning: Converting sparse IndexedSlices to a dense Tensor of unknown shape. This may consume a large amount of memory.\n",
            "  \"Converting sparse IndexedSlices to a dense Tensor of unknown shape. \"\n"
          ],
          "name": "stderr"
        },
        {
          "output_type": "stream",
          "text": [
            "98/98 [==============================] - 3s 26ms/step - loss: 0.9417 - acc: 0.6739 - val_loss: 0.8925 - val_acc: 0.5110\n",
            "Epoch 2/10\n",
            "98/98 [==============================] - 2s 24ms/step - loss: 0.5110 - acc: 0.8672 - val_loss: 0.8516 - val_acc: 0.5066\n",
            "Epoch 3/10\n",
            "98/98 [==============================] - 2s 25ms/step - loss: 0.4200 - acc: 0.8984 - val_loss: 0.8033 - val_acc: 0.6794\n",
            "Epoch 4/10\n",
            "98/98 [==============================] - 3s 26ms/step - loss: 0.3850 - acc: 0.9087 - val_loss: 0.7196 - val_acc: 0.8363\n",
            "Epoch 5/10\n",
            "98/98 [==============================] - 2s 24ms/step - loss: 0.3500 - acc: 0.9196 - val_loss: 0.6267 - val_acc: 0.7583\n",
            "Epoch 6/10\n",
            "98/98 [==============================] - 2s 25ms/step - loss: 0.3360 - acc: 0.9216 - val_loss: 0.5075 - val_acc: 0.8535\n",
            "Epoch 7/10\n",
            "98/98 [==============================] - 2s 25ms/step - loss: 0.3158 - acc: 0.9280 - val_loss: 0.4609 - val_acc: 0.8490\n",
            "Epoch 8/10\n",
            "98/98 [==============================] - 2s 24ms/step - loss: 0.3039 - acc: 0.9316 - val_loss: 0.4430 - val_acc: 0.8666\n",
            "Epoch 9/10\n",
            "98/98 [==============================] - 2s 24ms/step - loss: 0.2975 - acc: 0.9316 - val_loss: 0.4554 - val_acc: 0.8658\n",
            "Epoch 10/10\n",
            "98/98 [==============================] - 2s 24ms/step - loss: 0.2858 - acc: 0.9362 - val_loss: 0.4749 - val_acc: 0.8608\n"
          ],
          "name": "stdout"
        }
      ]
    },
    {
      "cell_type": "code",
      "metadata": {
        "id": "T8yavbiKmxI0",
        "colab_type": "code",
        "outputId": "707e4adc-b777-478a-ba20-368ea1aa30a4",
        "colab": {
          "base_uri": "https://localhost:8080/",
          "height": 265
        }
      },
      "source": [
        "import matplotlib.pyplot as plt\n",
        "plt.plot(history.epoch, history.history.get(\"acc\"),label=\"acc\")\n",
        "plt.plot(history.epoch, history.history.get(\"val_acc\"),label=\"val_acc\")\n",
        "plt.legend()\n",
        "plt.show()"
      ],
      "execution_count": 0,
      "outputs": [
        {
          "output_type": "display_data",
          "data": {
            "image/png": "[encoded data removed]",
            "text/plain": [
              "<Figure size 432x288 with 1 Axes>"
            ]
          },
          "metadata": {
            "tags": [],
            "needs_background": "light"
          }
        }
      ]
    },
    {
      "cell_type": "code",
      "metadata": {
        "id": "qgvenknGon-4",
        "colab_type": "code",
        "outputId": "9f20c730-7e08-414c-d9cf-5b8c2d308acc",
        "colab": {
          "base_uri": "https://localhost:8080/",
          "height": 265
        }
      },
      "source": [
        "import matplotlib.pyplot as plt\n",
        "plt.plot(history.epoch, history.history.get(\"loss\"),label=\"loss\")\n",
        "plt.plot(history.epoch, history.history.get(\"val_loss\"),label=\"val_loss\")\n",
        "plt.legend()\n",
        "plt.show()"
      ],
      "execution_count": 0,
      "outputs": [
        {
          "output_type": "display_data",
          "data": {
            "image/png": "[encoded data removed]",
            "text/plain": [
              "<Figure size 432x288 with 1 Axes>"
            ]
          },
          "metadata": {
            "tags": [],
            "needs_background": "light"
          }
        }
      ]
    },
    {
      "cell_type": "markdown",
      "metadata": {
        "id": "EUmN2w-7o4Oj",
        "colab_type": "text"
      },
      "source": [
        "从图中我们可以知道加入dropout,l2正则换，批量归一化具有抑制过拟合的作用。"
      ]
    }
  ]
}