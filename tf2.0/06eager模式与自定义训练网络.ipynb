{
  "nbformat": 4,
  "nbformat_minor": 0,
  "metadata": {
    "colab": {
      "name": "06eager模式.ipynb",
      "provenance": [],
      "collapsed_sections": [],
      "authorship_tag": "ABX9TyM/9RfOM2M9wD0Bwp53XiWu",
      "include_colab_link": true
    },
    "kernelspec": {
      "name": "python3",
      "display_name": "Python 3"
    },
    "accelerator": "GPU"
  },
  "cells": [
    {
      "cell_type": "markdown",
      "metadata": {
        "id": "view-in-github",
        "colab_type": "text"
      },
      "source": [
        "<a href=\"https://colab.research.google.com/github/yaaili/test/blob/master/tf2.0/06eager%E6%A8%A1%E5%BC%8F.ipynb\" target=\"_parent\"><img src=\"https://colab.research.google.com/assets/colab-badge.svg\" alt=\"Open In Colab\"/></a>"
      ]
    },
    {
      "cell_type": "code",
      "metadata": {
        "id": "YefLsoUJKHtn",
        "colab_type": "code",
        "outputId": "3c5c7d25-c651-4f95-c475-7cfb594e1faa",
        "colab": {
          "base_uri": "https://localhost:8080/",
          "height": 35
        }
      },
      "source": [
        "from google.colab import drive\n",
        "drive.mount('/content/gdrive')"
      ],
      "execution_count": 2,
      "outputs": [
        {
          "output_type": "stream",
          "text": [
            "Drive already mounted at /content/gdrive; to attempt to forcibly remount, call drive.mount(\"/content/gdrive\", force_remount=True).\n"
          ],
          "name": "stdout"
        }
      ]
    },
    {
      "cell_type": "code",
      "metadata": {
        "id": "hxPLC87kKe_q",
        "colab_type": "code",
        "outputId": "a5d79bf5-4c63-4524-a679-45f5ceaa48d8",
        "colab": {
          "base_uri": "https://localhost:8080/",
          "height": 35
        }
      },
      "source": [
        "import tensorflow as tf\n",
        "tf.__version__\n"
      ],
      "execution_count": 3,
      "outputs": [
        {
          "output_type": "execute_result",
          "data": {
            "text/plain": [
              "'2.2.0-rc4'"
            ]
          },
          "metadata": {
            "tags": []
          },
          "execution_count": 3
        }
      ]
    },
    {
      "cell_type": "markdown",
      "metadata": {
        "id": "nXSSD8ug9dso",
        "colab_type": "text"
      },
      "source": [
        "`对比tensorflow1`.x版本静态图模式，`tensorflow2.x`推荐使用的是`eager`模式，即动态计算模式，它的特点是运算可以立即得到结果。我们可以通过`tf.executing_eagerly()`来判断是不是`eager`模式，如果返回的为`True`,使用的则为`eager`模式。首先我们简答介绍一下在`eager`模式下的计算。\n"
      ]
    },
    {
      "cell_type": "code",
      "metadata": {
        "id": "dhWYqZPwKyKz",
        "colab_type": "code",
        "outputId": "e9581268-9b17-4a82-f972-78df96089d35",
        "colab": {
          "base_uri": "https://localhost:8080/",
          "height": 35
        }
      },
      "source": [
        "tf.executing_eagerly()#判断是不是eager模式，特点是运算可以立即得到结果"
      ],
      "execution_count": 4,
      "outputs": [
        {
          "output_type": "execute_result",
          "data": {
            "text/plain": [
              "True"
            ]
          },
          "metadata": {
            "tags": []
          },
          "execution_count": 4
        }
      ]
    },
    {
      "cell_type": "code",
      "metadata": {
        "id": "vL38tG2ELHhV",
        "colab_type": "code",
        "outputId": "e55c387b-1b94-4557-943b-f230858769ec",
        "colab": {
          "base_uri": "https://localhost:8080/",
          "height": 35
        }
      },
      "source": [
        "x = [[2,]]\n",
        "m = tf.matmul(x,x)\n",
        "print(m)"
      ],
      "execution_count": 4,
      "outputs": [
        {
          "output_type": "stream",
          "text": [
            "tf.Tensor([[4]], shape=(1, 1), dtype=int32)\n"
          ],
          "name": "stdout"
        }
      ]
    },
    {
      "cell_type": "markdown",
      "metadata": {
        "id": "cBdzDyP3-nEO",
        "colab_type": "text"
      },
      "source": [
        "`tf.matmul(x,x)`的返回值是`tesor`对象，它是一个张量，它就是高维数组它有两个特征，一个是`shape`和`dtype`，与`numpy(ndarry)`不同的是张量是不可变的对象，它不仅可以存储在内存当中,还可以存储在GPU显存当中。\n",
        "\n",
        "我们还可以将tensor和numpy的array相互转化。"
      ]
    },
    {
      "cell_type": "code",
      "metadata": {
        "id": "J-MHeT4tMMwL",
        "colab_type": "code",
        "outputId": "873774c9-02e8-4d82-e5a2-70425878bc3d",
        "colab": {
          "base_uri": "https://localhost:8080/",
          "height": 197
        }
      },
      "source": [
        "a = tf.constant([[1,2],[3,4]])#建立一个常量\n",
        "print(a)\n",
        "b = tf.add(a,1)#对他进行加法\n",
        "print(b)\n",
        "\n",
        "print(a.numpy())\n",
        "print(b.numpy())"
      ],
      "execution_count": 7,
      "outputs": [
        {
          "output_type": "stream",
          "text": [
            "tf.Tensor(\n",
            "[[1 2]\n",
            " [3 4]], shape=(2, 2), dtype=int32)\n",
            "tf.Tensor(\n",
            "[[2 3]\n",
            " [4 5]], shape=(2, 2), dtype=int32)\n",
            "[[1 2]\n",
            " [3 4]]\n",
            "[[2 3]\n",
            " [4 5]]\n"
          ],
          "name": "stdout"
        }
      ]
    },
    {
      "cell_type": "markdown",
      "metadata": {
        "id": "ODXEaJQVA-07",
        "colab_type": "text"
      },
      "source": [
        "以上是从`tensor`类型转换为了`numpy`类型，我们怎么转换`tensor`类型呢，利用`tf.convert_to_tensor()`方法即可。"
      ]
    },
    {
      "cell_type": "code",
      "metadata": {
        "id": "ZfOd5MMUN9W1",
        "colab_type": "code",
        "outputId": "d275ef3b-a768-4d6e-8c63-1028a46519d8",
        "colab": {
          "base_uri": "https://localhost:8080/",
          "height": 71
        }
      },
      "source": [
        "import numpy as np\n",
        "d = np.array([[5,6],\n",
        "        [7,8]])\n",
        "g = tf.convert_to_tensor(d)\n",
        "print(g)"
      ],
      "execution_count": 10,
      "outputs": [
        {
          "output_type": "stream",
          "text": [
            "tf.Tensor(\n",
            "[[5 6]\n",
            " [7 8]], shape=(2, 2), dtype=int64)\n"
          ],
          "name": "stdout"
        }
      ]
    },
    {
      "cell_type": "markdown",
      "metadata": {
        "id": "4xTEokTmNhnY",
        "colab_type": "text"
      },
      "source": [
        "# 2 变量与自动微分计算\n",
        "变量的定义域tf.1.x版本相似，方法`tf.Variable()`专门用于创建变量，它可以参与运算，其计算的值为tensor类型。\n"
      ]
    },
    {
      "cell_type": "code",
      "metadata": {
        "id": "dzEaX3i4PvBo",
        "colab_type": "code",
        "colab": {
          "base_uri": "https://localhost:8080/",
          "height": 35
        },
        "outputId": "7f038711-6648-4d93-ba94-d57e932b06ca"
      },
      "source": [
        "v = tf.Variable(0.0)#用yu 专门创建变量，和tf1.0相似\n",
        "print(v + 1) #转换为tensor，我们可以直接使用它的值"
      ],
      "execution_count": 13,
      "outputs": [
        {
          "output_type": "stream",
          "text": [
            "tf.Tensor(1.0, shape=(), dtype=float32)\n"
          ],
          "name": "stdout"
        }
      ]
    },
    {
      "cell_type": "markdown",
      "metadata": {
        "id": "ylU8vwjAE2SZ",
        "colab_type": "text"
      },
      "source": [
        "我们怎么改变变量的值？有一种方法是`assign()`，这是一个赋值的操作。"
      ]
    },
    {
      "cell_type": "code",
      "metadata": {
        "id": "XnySzyjoP8h8",
        "colab_type": "code",
        "outputId": "84dcf06b-615f-4629-ff33-3a99ddc3f6e9",
        "colab": {
          "base_uri": "https://localhost:8080/",
          "height": 89
        }
      },
      "source": [
        "print(v)\n",
        "v.assign(10) #我们就把变量的值给改变了\n",
        "print(x)\n",
        "v.assign_add(1)#我们使用assign_add()\n",
        "print(v)\n",
        "#我们也可以把变量的值读取出来read_value，读取出来它就变称了tensor类型\n",
        "print(v.read_value())"
      ],
      "execution_count": 15,
      "outputs": [
        {
          "output_type": "stream",
          "text": [
            "<tf.Variable 'Variable:0' shape=() dtype=float32, numpy=11.0>\n",
            "[[2]]\n",
            "<tf.Variable 'Variable:0' shape=() dtype=float32, numpy=11.0>\n",
            "tf.Tensor(11.0, shape=(), dtype=float32)\n"
          ],
          "name": "stdout"
        }
      ]
    },
    {
      "cell_type": "markdown",
      "metadata": {
        "id": "E7CoH6s1GSpE",
        "colab_type": "text"
      },
      "source": [
        "对于微分的计算我们需要`tf.GradientTape()`这个上下文管理器，自动跟踪运算。"
      ]
    },
    {
      "cell_type": "code",
      "metadata": {
        "id": "ptfggZ5eQhOx",
        "colab_type": "code",
        "outputId": "8f571384-8a85-4d45-c21a-67c0daaf5336",
        "colab": {
          "base_uri": "https://localhost:8080/",
          "height": 35
        }
      },
      "source": [
        "w = tf.Variable([[2.0]])\n",
        "#记录这个计算的过程，自动跟踪变量的运算\n",
        "with tf.GradientTape() as t:\n",
        "  loss = w * w * w\n",
        "grad = t.gradient(loss,w)#计算loss关于w的微分\n",
        "print(grad)\n",
        "#这就是自动微分的方法，我们建立tf.GradientTape()这个上下文管理器，自动跟踪运算"
      ],
      "execution_count": 20,
      "outputs": [
        {
          "output_type": "stream",
          "text": [
            "tf.Tensor([[12.]], shape=(1, 1), dtype=float32)\n"
          ],
          "name": "stdout"
        }
      ]
    },
    {
      "cell_type": "code",
      "metadata": {
        "id": "elVT64cUSj55",
        "colab_type": "code",
        "colab": {
          "base_uri": "https://localhost:8080/",
          "height": 35
        },
        "outputId": "0be549a8-dd30-4c92-f11c-0da29ebfe6b8"
      },
      "source": [
        "w = tf.constant([[3.0]])# 必须是float数据类型\n",
        "#记录这个计算的过程，自动跟踪变量的运算\n",
        "with tf.GradientTape() as t:\n",
        "  t.watch(w) #让t跟踪常量的运算\n",
        "  loss = w * w \n",
        "dloss_dw = t.gradient(loss,w)\n",
        "print(dloss_dw)"
      ],
      "execution_count": 16,
      "outputs": [
        {
          "output_type": "stream",
          "text": [
            "tf.Tensor([[6.]], shape=(1, 1), dtype=float32)\n"
          ],
          "name": "stdout"
        }
      ]
    },
    {
      "cell_type": "markdown",
      "metadata": {
        "id": "_81I8obtHnCY",
        "colab_type": "text"
      },
      "source": [
        "需要注意的微分计算，当我们计算一次微分后，记录已经释放，如果还需要再求微分，我们需要将`tf.GradientTape()`的参数`persistent=True`。"
      ]
    },
    {
      "cell_type": "code",
      "metadata": {
        "id": "IOD6PZHiU4ld",
        "colab_type": "code",
        "colab": {
          "base_uri": "https://localhost:8080/",
          "height": 53
        },
        "outputId": "1e5f3cd8-e260-462b-ae02-2e847568ad15"
      },
      "source": [
        "w = tf.constant([[3.0]])# 必须是float数据类型，记录这个计算的过程，自动跟踪变量的运算\n",
        "with tf.GradientTape(persistent=True) as t:\n",
        "  t.watch(w) #让t跟踪常量的运算\n",
        "  y = w * w \n",
        "  z = y * y\n",
        "dy_dw = t.gradient(y,w)\n",
        "print(dy_dw)\n",
        "dz_dw = t.gradient(z,w)\n",
        "print(dz_dw)"
      ],
      "execution_count": 17,
      "outputs": [
        {
          "output_type": "stream",
          "text": [
            "tf.Tensor([[6.]], shape=(1, 1), dtype=float32)\n",
            "tf.Tensor([[108.]], shape=(1, 1), dtype=float32)\n"
          ],
          "name": "stdout"
        }
      ]
    },
    {
      "cell_type": "markdown",
      "metadata": {
        "id": "V0vWELqwVblc",
        "colab_type": "text"
      },
      "source": [
        "# 3. 使用手写数据集自定义网络\n",
        "## 3.1 数据预处理"
      ]
    },
    {
      "cell_type": "code",
      "metadata": {
        "id": "m1dZeXAWV4Od",
        "colab_type": "code",
        "colab": {
          "base_uri": "https://localhost:8080/",
          "height": 89
        },
        "outputId": "2736e6b6-c3ba-4391-a4e0-0dd0a67982b4"
      },
      "source": [
        "(train_image,train_labels),(test_image,test_labels) = tf.keras.datasets.mnist.load_data() \n",
        "#扩充维度,增加通道项\n",
        "train_image = tf.expand_dims(train_image,-1)\n",
        "print(train_image.shape)\n",
        "test_image = tf.expand_dims(test_image,-1)\n",
        "print(train_image.shape)\n",
        "\n",
        "#对图像改变数据类型\n",
        "train_image = tf.cast(train_image/255,tf.float32)\n",
        "train_labels = tf.cast(train_labels,tf.int64)\n",
        "test_image = tf.cast(test_image/255,tf.float32)\n",
        "test_labels = tf.cast(test_labels,tf.int64)"
      ],
      "execution_count": 18,
      "outputs": [
        {
          "output_type": "stream",
          "text": [
            "Downloading data from https://storage.googleapis.com/tensorflow/tf-keras-datasets/mnist.npz\n",
            "11493376/11490434 [==============================] - 0s 0us/step\n",
            "(60000, 28, 28, 1)\n",
            "(60000, 28, 28, 1)\n"
          ],
          "name": "stdout"
        }
      ]
    },
    {
      "cell_type": "markdown",
      "metadata": {
        "id": "rQwG-ludJNY4",
        "colab_type": "text"
      },
      "source": [
        "## 3.2 数据批量化和网络构建"
      ]
    },
    {
      "cell_type": "code",
      "metadata": {
        "id": "LVMF74YVXoi1",
        "colab_type": "code",
        "outputId": "5a6591e5-6fb8-46bf-ed32-e8730fe6768e",
        "colab": {
          "base_uri": "https://localhost:8080/",
          "height": 35
        }
      },
      "source": [
        "dataset = tf.data.Dataset.from_tensor_slices((train_image,train_labels))\n",
        "test_dataset = tf.data.Dataset.from_tensor_slices((test_image,test_labels))\n",
        "\n",
        "dataset = dataset.shuffle(60000).batch(32)\n",
        "test_dataset = test_dataset.batch(32)\n",
        "\n",
        "print(dataset)"
      ],
      "execution_count": 19,
      "outputs": [
        {
          "output_type": "stream",
          "text": [
            "<BatchDataset shapes: ((None, 28, 28, 1), (None,)), types: (tf.float32, tf.int64)>\n"
          ],
          "name": "stdout"
        }
      ]
    },
    {
      "cell_type": "code",
      "metadata": {
        "id": "r9H93MeKZZiQ",
        "colab_type": "code",
        "colab": {
          "base_uri": "https://localhost:8080/",
          "height": 305
        },
        "outputId": "0bc4bdae-b975-4c57-efcd-ce0c451beb53"
      },
      "source": [
        "model = tf.keras.Sequential([\n",
        "     tf.keras.layers.Conv2D(16,[3,3],activation=\"relu\",input_shape=(None,None,1)),#任意大小的channel都能输入进来\n",
        "     tf.keras.layers.Conv2D(32,[3,3],activation=\"relu\"),\n",
        "     tf.keras.layers.GlobalAveragePooling2D(),\n",
        "     tf.keras.layers.Dense(10),\n",
        "     ]\n",
        ")\n",
        "model.summary()"
      ],
      "execution_count": 20,
      "outputs": [
        {
          "output_type": "stream",
          "text": [
            "Model: \"sequential\"\n",
            "_________________________________________________________________\n",
            "Layer (type)                 Output Shape              Param #   \n",
            "=================================================================\n",
            "conv2d (Conv2D)              (None, None, None, 16)    160       \n",
            "_________________________________________________________________\n",
            "conv2d_1 (Conv2D)            (None, None, None, 32)    4640      \n",
            "_________________________________________________________________\n",
            "global_average_pooling2d (Gl (None, 32)                0         \n",
            "_________________________________________________________________\n",
            "dense (Dense)                (None, 10)                330       \n",
            "=================================================================\n",
            "Total params: 5,130\n",
            "Trainable params: 5,130\n",
            "Non-trainable params: 0\n",
            "_________________________________________________________________\n"
          ],
          "name": "stdout"
        }
      ]
    },
    {
      "cell_type": "markdown",
      "metadata": {
        "id": "QFZ7NNInJ3oM",
        "colab_type": "text"
      },
      "source": [
        "我们可以利用`model.trainable_variables`利用和查看过滤器的变量。"
      ]
    },
    {
      "cell_type": "code",
      "metadata": {
        "id": "GHm-KlfRkijZ",
        "colab_type": "code",
        "colab": {
          "base_uri": "https://localhost:8080/",
          "height": 35
        },
        "outputId": "c7b870cf-399a-410f-fc1e-658875ef8e99"
      },
      "source": [
        "optimizer = tf.keras.optimizers.Adam()\n",
        "#自定义损失,Sparse是可调用的对象\n",
        "loss_fuc = tf.keras.losses.SparseCategoricalCrossentropy(from_logits=True)# 这是可调用的方法,因为我们没有加入激活函数，所以from_logits=true\n",
        "\n",
        "feature,label = next(iter(dataset))# 可以封装成迭代器直接调用\n",
        "\n",
        "def loss(model,x,y):\n",
        "  y_ = model(x)\n",
        "  return loss_fuc(y,y_)\n",
        "loss(model,feature,label)\n"
      ],
      "execution_count": 21,
      "outputs": [
        {
          "output_type": "execute_result",
          "data": {
            "text/plain": [
              "<tf.Tensor: shape=(), dtype=float32, numpy=2.3087442>"
            ]
          },
          "metadata": {
            "tags": []
          },
          "execution_count": 21
        }
      ]
    },
    {
      "cell_type": "code",
      "metadata": {
        "id": "o2TQY5aRJK3Q",
        "colab_type": "code",
        "colab": {}
      },
      "source": [
        "train_loss = tf.keras.metrics.Mean(\"train_loss\")\n",
        "train_accuracy = tf.keras.metrics.SparseCategoricalAccuracy(\"train_accuracy\") \n",
        "#求梯度 \n",
        "def train_step(model,image,labels):\n",
        "  with tf.GradientTape() as t:\n",
        "    pred = model(image)\n",
        "    loss_step = loss_fuc(labels,pred)\n",
        "  grads = t.gradient(loss_step,model.trainable_variables)\n",
        "  optimizer.apply_gradients(zip(grads,model.trainable_variables))\n",
        "  train_loss(loss_step)\n",
        "  train_accuracy(labels,pred)"
      ],
      "execution_count": 0,
      "outputs": []
    },
    {
      "cell_type": "markdown",
      "metadata": {
        "id": "S3oHfSVqMWu8",
        "colab_type": "text"
      },
      "source": [
        "## 3.4 训练预测"
      ]
    },
    {
      "cell_type": "code",
      "metadata": {
        "id": "bfQoLwxtSWcv",
        "colab_type": "code",
        "colab": {}
      },
      "source": [
        "def train():\n",
        "  for epoch in range(10):\n",
        "    for (batch,(image,labels)) in enumerate(dataset):\n",
        "      #进行异步训连\n",
        "      train_step(model,image,labels)\n",
        "    print(\"epoch{} loss is {};accuracy is {}\".format(epoch,\n",
        "                               train_loss.result(),\n",
        "                               train_accuracy.result()))\n",
        "    train_loss.reset_states()\n",
        "    train_accuracy.reset_states()\n",
        "train()\n"
      ],
      "execution_count": 0,
      "outputs": []
    },
    {
      "cell_type": "code",
      "metadata": {
        "id": "CQUIWxZ8TKoJ",
        "colab_type": "code",
        "colab": {
          "base_uri": "https://localhost:8080/",
          "height": 197
        },
        "outputId": "d7fc755b-5a76-4029-f692-73194b83bf02"
      },
      "source": [
        "train()"
      ],
      "execution_count": 54,
      "outputs": [
        {
          "output_type": "stream",
          "text": [
            "epoch0 loss is 0.47583284974098206;accuracy is 0.8527083396911621\n",
            "epoch1 loss is 0.45875340700149536;accuracy is 0.862500011920929\n",
            "epoch2 loss is 0.44017791748046875;accuracy is 0.8687833547592163\n",
            "epoch3 loss is 0.4235962927341461;accuracy is 0.8733333349227905\n",
            "epoch4 loss is 0.4048921465873718;accuracy is 0.8791000247001648\n",
            "epoch5 loss is 0.3935568332672119;accuracy is 0.8831833600997925\n",
            "epoch6 loss is 0.38044092059135437;accuracy is 0.8866000175476074\n",
            "epoch7 loss is 0.370032399892807;accuracy is 0.8890500068664551\n",
            "epoch8 loss is 0.3582034409046173;accuracy is 0.8931166529655457\n",
            "epoch9 loss is 0.34430235624313354;accuracy is 0.8981166481971741\n"
          ],
          "name": "stdout"
        }
      ]
    },
    {
      "cell_type": "markdown",
      "metadata": {
        "id": "oIg1poM_TdFT",
        "colab_type": "text"
      },
      "source": [
        "怎么打印test数据的变换情况"
      ]
    },
    {
      "cell_type": "code",
      "metadata": {
        "id": "Z3RHfP4sY4zD",
        "colab_type": "code",
        "colab": {}
      },
      "source": [
        "train_loss = tf.keras.metrics.Mean(\"train_loss\")\n",
        "train_accuracy = tf.keras.metrics.SparseCategoricalAccuracy(\"train_accuracy\") \n",
        "test_loss = tf.keras.metrics.Mean(\"test_loss\")\n",
        "test_accuracy = tf.keras.metrics.SparseCategoricalAccuracy(\"test_accuracy\") "
      ],
      "execution_count": 0,
      "outputs": []
    },
    {
      "cell_type": "code",
      "metadata": {
        "id": "b_N19b0V0VpV",
        "colab_type": "code",
        "colab": {}
      },
      "source": [
        "def test_step(model,image,labels):\n",
        "  pred = model(image)\n",
        "  loss_step = loss_fuc(labels,pred)\n",
        "  test_loss(loss_step)\n",
        "  test_accuracy(labels,pred)\n",
        "\n"
      ],
      "execution_count": 0,
      "outputs": []
    },
    {
      "cell_type": "code",
      "metadata": {
        "id": "mXR6z6DS39ji",
        "colab_type": "code",
        "colab": {
          "base_uri": "https://localhost:8080/",
          "height": 197
        },
        "outputId": "b46cc75e-b36a-44fd-e3a9-d5f128fef649"
      },
      "source": [
        "def train():\n",
        "  for epoch in range(10):\n",
        "    for (batch,(image,labels)) in enumerate(dataset):\n",
        "      #进行异步训连\n",
        "      train_step(model,image,labels)\n",
        "    for (batch,(image,labels)) in enumerate(test_dataset):\n",
        "      test_step(model,image,labels)\n",
        "\n",
        "    print(\"epoch{} train_loss is {};train_accuracy is {};test_loss is {};test_accuracy is {}\".format(epoch,\n",
        "                               train_loss.result(),\n",
        "                               train_accuracy.result(),\n",
        "                               test_loss.result(),\n",
        "                               test_accuracy.result()\n",
        "                               ))\n",
        "    \n",
        "    train_loss.reset_states()\n",
        "    train_accuracy.reset_states()\n",
        "train()"
      ],
      "execution_count": 60,
      "outputs": [
        {
          "output_type": "stream",
          "text": [
            "epoch0 train_loss is 0.3299615681171417;train_accuracy is 0.9027583599090576;test_loss is 0.3066971004009247;test_accuracy is 0.907800018787384\n",
            "epoch1 train_loss is 0.3169953227043152;train_accuracy is 0.9060500264167786;test_loss is 0.2917846441268921;test_accuracy is 0.9154999852180481\n",
            "epoch2 train_loss is 0.3101600706577301;train_accuracy is 0.9079499840736389;test_loss is 0.2940264344215393;test_accuracy is 0.9137333035469055\n",
            "epoch3 train_loss is 0.30038899183273315;train_accuracy is 0.9114000201225281;test_loss is 0.28789690136909485;test_accuracy is 0.9157249927520752\n",
            "epoch4 train_loss is 0.29241883754730225;train_accuracy is 0.9130833148956299;test_loss is 0.2802391052246094;test_accuracy is 0.9186400175094604\n",
            "epoch5 train_loss is 0.28577837347984314;train_accuracy is 0.9151166677474976;test_loss is 0.2763482332229614;test_accuracy is 0.9198833107948303\n",
            "epoch6 train_loss is 0.27776893973350525;train_accuracy is 0.918666660785675;test_loss is 0.2713969349861145;test_accuracy is 0.9215571284294128\n",
            "epoch7 train_loss is 0.2718273401260376;train_accuracy is 0.9201499819755554;test_loss is 0.2703363001346588;test_accuracy is 0.9218875169754028\n",
            "epoch8 train_loss is 0.26651278138160706;train_accuracy is 0.9215333461761475;test_loss is 0.27081072330474854;test_accuracy is 0.9211888909339905\n",
            "epoch9 train_loss is 0.2612370252609253;train_accuracy is 0.9223999977111816;test_loss is 0.26694610714912415;test_accuracy is 0.922569990158081\n"
          ],
          "name": "stdout"
        }
      ]
    },
    {
      "cell_type": "code",
      "metadata": {
        "id": "Ry_v0QS93_xU",
        "colab_type": "code",
        "colab": {}
      },
      "source": [
        ""
      ],
      "execution_count": 0,
      "outputs": []
    }
  ]
}
